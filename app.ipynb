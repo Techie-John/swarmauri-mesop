{
 "cells": [
  {
   "cell_type": "code",
   "execution_count": null,
   "id": "0ccd7910-8c18-45cf-8dcc-782463624032",
   "metadata": {},
   "outputs": [],
   "source": [
    "#Swarmauri’s swarmauri-sdkpython package\n",
    "! pip install swarmauri[full]==0.4.0 mesop"
   ]
  },
  {
   "cell_type": "code",
   "execution_count": null,
   "id": "9d15c146-86b0-4551-bcaa-2d8f9bacabe6",
   "metadata": {},
   "outputs": [],
   "source": [
    "#import the necessary libraries\n",
    "import os\n",
    "import mesop as me\n",
    "import mesop.labs as mel\n",
    "from swarmauri.standard.llms.concrete.GroqModel import GroqModel\n",
    "from swarmauri.standard.agents.concrete.SimpleConversationAgent import SimpleConversationAgent\n",
    "from swarmauri.standard.conversations.concrete.Conversation import Conversation"
   ]
  },
  {
   "cell_type": "code",
   "execution_count": null,
   "id": "7d534bcc-aab5-44af-9c76-6ec52436344f",
   "metadata": {},
   "outputs": [],
   "source": [
    "# Fetch the API key from environment variables or define it directly (Not recommended for production)\n",
    "API_KEY = os.getenv(\"GROQ_API_KEY\")"
   ]
  },
  {
   "cell_type": "code",
   "execution_count": 50,
   "id": "7368de54-7b20-4012-bb42-f20c5db6f614",
   "metadata": {},
   "outputs": [],
   "source": [
    "# Initialize the GroqModel\n",
    "llm = GroqModel(api_key=API_KEY)\n",
    "\n",
    "# Create a SimpleConversationAgent with the GroqModel\n",
    "agent = SimpleConversationAgent(llm=llm, conversation=Conversation())"
   ]
  },
  {
   "cell_type": "code",
   "execution_count": 51,
   "id": "ce24d789-ce28-4e12-8d47-ab2b6ea7ac9f",
   "metadata": {},
   "outputs": [],
   "source": [
    "# Define the function to be executed for the mesop interface\n",
    "def converse(input: str, history: list[mel.ChatMessage]):\n",
    "    result = agent.exec(input)\n",
    "    yield result\n",
    "\n",
    "@me.page(\n",
    "    security_policy=me.SecurityPolicy(\n",
    "        allowed_iframe_parents=[\"https://google.github.io\"]\n",
    "    ),\n",
    "    path=\"/chat\",\n",
    "    title=\"Swarmauri Agent\",\n",
    ")\n",
    "def page():\n",
    "    mel.chat(converse, title=\"Swarmauri Agent\", bot_user=\"Groq\")"
   ]
  },
  {
   "cell_type": "code",
   "execution_count": null,
   "id": "ef3a77a6-cf07-4168-8038-fc03aadf1738",
   "metadata": {},
   "outputs": [],
   "source": []
  }
 ],
 "metadata": {
  "kernelspec": {
   "display_name": "Python 3 (ipykernel)",
   "language": "python",
   "name": "python3"
  },
  "language_info": {
   "codemirror_mode": {
    "name": "ipython",
    "version": 3
   },
   "file_extension": ".py",
   "mimetype": "text/x-python",
   "name": "python",
   "nbconvert_exporter": "python",
   "pygments_lexer": "ipython3",
   "version": "3.10.12"
  }
 },
 "nbformat": 4,
 "nbformat_minor": 5
}
